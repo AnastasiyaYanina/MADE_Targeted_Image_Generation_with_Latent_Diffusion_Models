{
  "cells": [
    {
      "cell_type": "markdown",
      "source": [
        "# Image2text\n"
      ],
      "metadata": {
        "id": "n_fc1AgmOp1R"
      },
      "id": "n_fc1AgmOp1R"
    },
    {
      "cell_type": "markdown",
      "source": [
        "##install"
      ],
      "metadata": {
        "id": "4CcHvjlzFwQB"
      },
      "id": "4CcHvjlzFwQB"
    },
    {
      "cell_type": "code",
      "source": [
        "!pip install torch==1.12.1;"
      ],
      "metadata": {
        "id": "jIDTKgzq-YnE"
      },
      "id": "jIDTKgzq-YnE",
      "execution_count": null,
      "outputs": []
    },
    {
      "cell_type": "code",
      "source": [
        "!git clone https://github.com/salesforce/LAVIS\n",
        "%cd LAVIS\n",
        "!pip install ."
      ],
      "metadata": {
        "id": "vxVKS1Z0-Z_0"
      },
      "id": "vxVKS1Z0-Z_0",
      "execution_count": null,
      "outputs": []
    },
    {
      "cell_type": "code",
      "source": [
        "from google.colab import drive \n",
        "drive.mount('/content/gdrive')"
      ],
      "metadata": {
        "id": "sIlHQ9ZwFJMr",
        "colab": {
          "base_uri": "https://localhost:8080/"
        },
        "outputId": "49e9d787-fd8a-430b-b8f5-e1fa118866ce"
      },
      "id": "sIlHQ9ZwFJMr",
      "execution_count": null,
      "outputs": [
        {
          "output_type": "stream",
          "name": "stdout",
          "text": [
            "Mounted at /content/gdrive\n"
          ]
        }
      ]
    },
    {
      "cell_type": "code",
      "source": [
        "import os\n",
        "os.chdir(\"/content/gdrive/\")\n",
        "!ls"
      ],
      "metadata": {
        "id": "p21lHiunF9bE",
        "colab": {
          "base_uri": "https://localhost:8080/"
        },
        "outputId": "93581a93-22de-4eb4-acb4-cc82cba3244c"
      },
      "id": "p21lHiunF9bE",
      "execution_count": null,
      "outputs": [
        {
          "output_type": "stream",
          "name": "stdout",
          "text": [
            "MyDrive\n"
          ]
        }
      ]
    },
    {
      "cell_type": "code",
      "source": [
        "import torch\n",
        "from PIL import Image\n",
        "import requests\n",
        "\n",
        "from lavis.models import load_model_and_preprocess"
      ],
      "metadata": {
        "id": "SqWPRS48FJJ4"
      },
      "id": "SqWPRS48FJJ4",
      "execution_count": null,
      "outputs": []
    },
    {
      "cell_type": "code",
      "source": [
        "device = torch.device(\"cuda\" if torch.cuda.is_available() else \"cpu\")"
      ],
      "metadata": {
        "id": "6rE7hhK6F9U6"
      },
      "id": "6rE7hhK6F9U6",
      "execution_count": null,
      "outputs": []
    },
    {
      "cell_type": "markdown",
      "source": [
        "##Images description and save"
      ],
      "metadata": {
        "id": "G5GMfgH0PP8J"
      },
      "id": "G5GMfgH0PP8J"
    },
    {
      "cell_type": "code",
      "source": [
        "file_save = open('/content/gdrive/MyDrive/Project/images/descriptions.txt','w')\n",
        "file_save.write('Descriptions' +'\\n')\n",
        "# file_save.close()"
      ],
      "metadata": {
        "id": "YJl4KqAbPX4j",
        "colab": {
          "base_uri": "https://localhost:8080/"
        },
        "outputId": "6c156888-a4b7-470f-d1ab-1794a74e5b6a"
      },
      "id": "YJl4KqAbPX4j",
      "execution_count": null,
      "outputs": [
        {
          "output_type": "execute_result",
          "data": {
            "text/plain": [
              "13"
            ]
          },
          "metadata": {},
          "execution_count": 7
        }
      ]
    },
    {
      "cell_type": "code",
      "source": [
        "# we associate a model with its preprocessors to make it easier for inference.\n",
        "model, vis_processors, _ = load_model_and_preprocess(\n",
        "    name=\"blip_caption\", model_type=\"large_coco\", is_eval=True, device=device\n",
        ")"
      ],
      "metadata": {
        "id": "UhsAzOBp-glo"
      },
      "id": "UhsAzOBp-glo",
      "execution_count": null,
      "outputs": []
    },
    {
      "cell_type": "code",
      "source": [
        "#Images descriptions\n",
        "\n",
        "for i in range(1, 265):\n",
        "  init_image = Image.open('/content/gdrive/MyDrive/Project/images/' + str(i) + '.jpg').convert(\"RGB\")\n",
        "  init_image = init_image.resize((512, 512))\n",
        "\n",
        "  image = vis_processors[\"eval\"](init_image).unsqueeze(0).to(device)\n",
        "  # due to the non-determinstic nature of necleus sampling, you may get different captions.\n",
        "  des = model.generate({\"image\": image}, use_nucleus_sampling=True, num_captions=1)\n",
        "  file_save.write(des[0] +'\\n')\n",
        "\n",
        "file_save.close()"
      ],
      "metadata": {
        "id": "KN-mUP3PUYy-"
      },
      "id": "KN-mUP3PUYy-",
      "execution_count": null,
      "outputs": []
    },
    {
      "cell_type": "markdown",
      "source": [
        "##Matching the given style"
      ],
      "metadata": {
        "id": "gt-e3_TlGN3D"
      },
      "id": "gt-e3_TlGN3D"
    },
    {
      "cell_type": "markdown",
      "source": [
        "###Banksy"
      ],
      "metadata": {
        "id": "3iUFgMW38ms5"
      },
      "id": "3iUFgMW38ms5"
    },
    {
      "cell_type": "code",
      "source": [
        "file_save = open('/content/gdrive/MyDrive/Project/images/matching_style_Banksy.txt','w')\n",
        "file_save.write('Answers' +'\\n')"
      ],
      "metadata": {
        "colab": {
          "base_uri": "https://localhost:8080/"
        },
        "id": "yhnEECk178Vz",
        "outputId": "d2acb910-57b2-4884-e276-ca9dac1874d1"
      },
      "id": "yhnEECk178Vz",
      "execution_count": null,
      "outputs": [
        {
          "output_type": "execute_result",
          "data": {
            "text/plain": [
              "8"
            ]
          },
          "metadata": {},
          "execution_count": 16
        }
      ]
    },
    {
      "cell_type": "code",
      "source": [
        "model, vis_processors, txt_processors = load_model_and_preprocess(name=\"blip_vqa\", model_type=\"vqav2\", is_eval=True, device=device)\n",
        "question = \"Is this a Banksy style image?\"\n",
        "question = txt_processors[\"eval\"](question)"
      ],
      "metadata": {
        "colab": {
          "base_uri": "https://localhost:8080/",
          "height": 145,
          "referenced_widgets": [
            "9d01824edff543e89ee7c84029ea7739",
            "52c203c428cf479d92e7951346b5f141",
            "e8b106f86ed74fd6ac11036b9a7bf692",
            "24060af1d7ac45bdb1ac1dc92522847f",
            "638075cdede44119b283026b68e3dc8c",
            "218c5ca4aa9c4c33a52050cce456d60e",
            "a45ca9a06c334cf9b5349b759d4a1867",
            "09cb928e2b3c43538b955b5f8739f6e6",
            "d9bcffc274ae4c1fbb3b9fed5a981593",
            "ef04e58107034984b17209e1118b5511",
            "6d668604f9b74d3dab96d12c7dcffe5a",
            "bb54c2751a80466995e7b3d8a8f84c72",
            "422ac141f9704200911b5bb38de3b0b4",
            "38b690c24fd14db2bfd42bf863055e53",
            "290d1b3c6e2c46d68443a2216a20237d",
            "27baf538b7dc4e2e904012f9636b2ffd",
            "becbf8cc29234e5faac5a9c34cebb1d3",
            "ec7d23da16e542ada9da46696bd054cf",
            "98435b9daf324633a9253b320b9961d2",
            "d1064624001946ba89a4955e78845b54",
            "946a93f7ee66496982dcd774299ebbe1",
            "45a196adb50d44568cac1ea75d0b9737",
            "38aa635b09144745b3a6c4b7bdd816e3",
            "4eba435b395d4a9da395d6d3e6aa8b93",
            "224464fa180846f7a0466682c715f804",
            "806b3605b5074b99a0801dfa84e64aee",
            "b1b549ea27874b91b049cc25590d121c",
            "d039b25b45b84f06a69856e0a88afcdf",
            "3de37ad985b54d95b52764fc4ce21e68",
            "492f9490b19342dd85a67c912210e058",
            "70c24d3e223944c8aba64cf02fc81497",
            "4e7e087da9974f0dbaee1c0c5dddd849",
            "ce9a052cb1bf45eb99c81c472c269e3f",
            "0a733ad7cb2442df85e7ac762ec241f4",
            "d06bfb5fc6dc4d84aaa4686b9bea5512",
            "4e8df7ae0e3d439a84f00c999d1dc9a6",
            "f65bbb3bb307403ea288fc5a4ed1687b",
            "bdfe4a11645d44c99afe96208e2bfa9c",
            "422438f396a041deafe4cfb2239b39a0",
            "dd898585b8814e84aadef221326e7d2f",
            "4e40c3e65f5044b8b61d868dcb0555c5",
            "b3b160b3176b44bd917cc76fc5423fdf",
            "5c6c815404f84499a660501a28d29403",
            "26956684b3e041cf956991025f1aedcf"
          ]
        },
        "id": "oXbDw0CE7b6O",
        "outputId": "3bf84597-ff66-4280-9320-238291c0ed2f"
      },
      "id": "oXbDw0CE7b6O",
      "execution_count": null,
      "outputs": [
        {
          "output_type": "display_data",
          "data": {
            "text/plain": [
              "Downloading vocab.txt:   0%|          | 0.00/226k [00:00<?, ?B/s]"
            ],
            "application/vnd.jupyter.widget-view+json": {
              "version_major": 2,
              "version_minor": 0,
              "model_id": "9d01824edff543e89ee7c84029ea7739"
            }
          },
          "metadata": {}
        },
        {
          "output_type": "display_data",
          "data": {
            "text/plain": [
              "Downloading tokenizer_config.json:   0%|          | 0.00/28.0 [00:00<?, ?B/s]"
            ],
            "application/vnd.jupyter.widget-view+json": {
              "version_major": 2,
              "version_minor": 0,
              "model_id": "bb54c2751a80466995e7b3d8a8f84c72"
            }
          },
          "metadata": {}
        },
        {
          "output_type": "display_data",
          "data": {
            "text/plain": [
              "Downloading config.json:   0%|          | 0.00/570 [00:00<?, ?B/s]"
            ],
            "application/vnd.jupyter.widget-view+json": {
              "version_major": 2,
              "version_minor": 0,
              "model_id": "38aa635b09144745b3a6c4b7bdd816e3"
            }
          },
          "metadata": {}
        },
        {
          "output_type": "display_data",
          "data": {
            "text/plain": [
              "  0%|          | 0.00/1.35G [00:00<?, ?B/s]"
            ],
            "application/vnd.jupyter.widget-view+json": {
              "version_major": 2,
              "version_minor": 0,
              "model_id": "0a733ad7cb2442df85e7ac762ec241f4"
            }
          },
          "metadata": {}
        }
      ]
    },
    {
      "cell_type": "code",
      "source": [
        "#Is this a Banksy style image?\n",
        "for i in range(1, 265):\n",
        "  init_image = Image.open('/content/gdrive/MyDrive/Project/banksy/' + str(i) + '.jpg').convert(\"RGB\")\n",
        "  init_image = init_image.resize((512, 512))\n",
        "  #model, vis_processors, txt_processors = load_model_and_preprocess(name=\"blip_vqa\", model_type=\"vqav2\", is_eval=True, device=device)\n",
        "  # ask a random question.\n",
        "  image = vis_processors[\"eval\"](init_image).unsqueeze(0).to(device)\n",
        "  answer = model.predict_answers(samples={\"image\": image, \"text_input\": question}, inference_method=\"generate\")\n",
        "  file_save.write(answer[0] +'\\n')\n",
        "file_save.close()"
      ],
      "metadata": {
        "id": "6pqt1KStF9Se"
      },
      "id": "6pqt1KStF9Se",
      "execution_count": null,
      "outputs": []
    },
    {
      "cell_type": "markdown",
      "source": [
        "###Vincent Van Gogh"
      ],
      "metadata": {
        "id": "JYtTgNhE8tXM"
      },
      "id": "JYtTgNhE8tXM"
    },
    {
      "cell_type": "code",
      "source": [
        "file_save = open('/content/gdrive/MyDrive/Project/images/matching_style_Vincent.txt','w')\n",
        "file_save.write('Answers' +'\\n')"
      ],
      "metadata": {
        "colab": {
          "base_uri": "https://localhost:8080/"
        },
        "id": "BOZ4elsP8tXM",
        "outputId": "8124d546-881a-44df-b7d8-0b57e8ccfc93"
      },
      "execution_count": null,
      "outputs": [
        {
          "output_type": "execute_result",
          "data": {
            "text/plain": [
              "8"
            ]
          },
          "metadata": {},
          "execution_count": 18
        }
      ],
      "id": "BOZ4elsP8tXM"
    },
    {
      "cell_type": "code",
      "source": [
        "model, vis_processors, txt_processors = load_model_and_preprocess(name=\"blip_vqa\", model_type=\"vqav2\", is_eval=True, device=device)\n",
        "question = \"Is this a Vincent Van Gogh style image?\"\n",
        "question = txt_processors[\"eval\"](question)"
      ],
      "metadata": {
        "id": "tTNiSLbV8tXN"
      },
      "execution_count": null,
      "outputs": [],
      "id": "tTNiSLbV8tXN"
    },
    {
      "cell_type": "code",
      "source": [
        "#Is this a Vincent Van Gogh style image?\n",
        "for i in range(1, 265):\n",
        "  init_image = Image.open('/content/gdrive/MyDrive/Project/vincent/' + str(i) + '.jpg').convert(\"RGB\")\n",
        "  init_image = init_image.resize((512, 512))\n",
        "  # ask a random question.\n",
        "  image = vis_processors[\"eval\"](init_image).unsqueeze(0).to(device)\n",
        "  answer = model.predict_answers(samples={\"image\": image, \"text_input\": question}, inference_method=\"generate\")\n",
        "  file_save.write(answer[0] +'\\n')\n",
        "file_save.close()"
      ],
      "metadata": {
        "id": "RRQs2VzH8tXN"
      },
      "execution_count": null,
      "outputs": [],
      "id": "RRQs2VzH8tXN"
    },
    {
      "cell_type": "markdown",
      "source": [
        "###sad"
      ],
      "metadata": {
        "id": "NQVOplb-8tz-"
      },
      "id": "NQVOplb-8tz-"
    },
    {
      "cell_type": "code",
      "source": [
        "file_save = open('/content/gdrive/MyDrive/Project/images/matching_style_sad.txt','w')\n",
        "file_save.write('Answers' +'\\n')"
      ],
      "metadata": {
        "colab": {
          "base_uri": "https://localhost:8080/"
        },
        "id": "lGoO_rr48tz_",
        "outputId": "5cca83f6-4d2a-468a-9407-41458ed67a75"
      },
      "execution_count": null,
      "outputs": [
        {
          "output_type": "execute_result",
          "data": {
            "text/plain": [
              "8"
            ]
          },
          "metadata": {},
          "execution_count": 32
        }
      ],
      "id": "lGoO_rr48tz_"
    },
    {
      "cell_type": "code",
      "source": [
        "model, vis_processors, txt_processors = load_model_and_preprocess(name=\"blip_vqa\", model_type=\"vqav2\", is_eval=True, device=device)\n",
        "question = \"This picture is sad?\"\n",
        "question = txt_processors[\"eval\"](question)"
      ],
      "metadata": {
        "id": "mEehUb5t8t0A"
      },
      "execution_count": null,
      "outputs": [],
      "id": "mEehUb5t8t0A"
    },
    {
      "cell_type": "code",
      "source": [
        "#This picture is sad?\n",
        "for i in range(1, 265):\n",
        "  init_image = Image.open('/content/gdrive/MyDrive/Project/sad/' + str(i) + '.jpg').convert(\"RGB\")\n",
        "  init_image = init_image.resize((512, 512))\n",
        "  # ask a random question.\n",
        "  image = vis_processors[\"eval\"](init_image).unsqueeze(0).to(device)\n",
        "  answer = model.predict_answers(samples={\"image\": image, \"text_input\": question}, inference_method=\"generate\")\n",
        "  file_save.write(answer[0] +'\\n')\n",
        "file_save.close()"
      ],
      "metadata": {
        "id": "niKRPT2M8t0A"
      },
      "execution_count": null,
      "outputs": [],
      "id": "niKRPT2M8t0A"
    },
    {
      "cell_type": "markdown",
      "source": [
        "###panda"
      ],
      "metadata": {
        "id": "0ZQTawUN8uN1"
      },
      "id": "0ZQTawUN8uN1"
    },
    {
      "cell_type": "code",
      "source": [
        "file_save = open('/content/gdrive/MyDrive/Project/images/matching_style_panda.txt','w')\n",
        "file_save.write('Answers' +'\\n')"
      ],
      "metadata": {
        "colab": {
          "base_uri": "https://localhost:8080/"
        },
        "id": "3U3nigwC8uN1",
        "outputId": "f4e331ab-c62d-459e-8766-8a8d8bcb368d"
      },
      "execution_count": null,
      "outputs": [
        {
          "output_type": "execute_result",
          "data": {
            "text/plain": [
              "8"
            ]
          },
          "metadata": {},
          "execution_count": 26
        }
      ],
      "id": "3U3nigwC8uN1"
    },
    {
      "cell_type": "code",
      "source": [
        "model, vis_processors, txt_processors = load_model_and_preprocess(name=\"blip_vqa\", model_type=\"vqav2\", is_eval=True, device=device)\n",
        "question = \"This image is in a panda style?\"\n",
        "question = txt_processors[\"eval\"](question)"
      ],
      "metadata": {
        "id": "M4UymeFO8uN2"
      },
      "execution_count": null,
      "outputs": [],
      "id": "M4UymeFO8uN2"
    },
    {
      "cell_type": "code",
      "source": [
        "#This image is in a panda style?\n",
        "for i in range(1, 265):\n",
        "  init_image = Image.open('/content/gdrive/MyDrive/Project/panda/' + str(i) + '.jpg').convert(\"RGB\")\n",
        "  init_image = init_image.resize((512, 512))\n",
        "  # ask a random question.\n",
        "  image = vis_processors[\"eval\"](init_image).unsqueeze(0).to(device)\n",
        "  answer = model.predict_answers(samples={\"image\": image, \"text_input\": question}, inference_method=\"generate\")\n",
        "  file_save.write(answer[0] +'\\n')\n",
        "file_save.close()"
      ],
      "metadata": {
        "id": "U4sQiIlO8uN2"
      },
      "execution_count": null,
      "outputs": [],
      "id": "U4sQiIlO8uN2"
    },
    {
      "cell_type": "markdown",
      "source": [
        "#Stable diffusion"
      ],
      "metadata": {
        "id": "6pzLTax8fl21"
      },
      "id": "6pzLTax8fl21"
    },
    {
      "cell_type": "markdown",
      "source": [
        "##install"
      ],
      "metadata": {
        "id": "d3kCQg2T-lLp"
      },
      "id": "d3kCQg2T-lLp"
    },
    {
      "cell_type": "code",
      "source": [
        "%%capture\n",
        "!pip install torch==1.12.1+cu113\n",
        "!pip install torchvision==0.13.1+cu113\n",
        "!pip install OmegaConf\n",
        "!pip install -qq accelerate tensorboard transformers ftfy gradio\n",
        "!pip install triton==2.0.0.dev20220701\n",
        "!pip install -U -qq git+https://github.com/huggingface/diffusers.git\n",
        "!pip install GPUtil\n",
        "!pip install numba\n",
        "!pip install https://github.com/apolinario/xformers/releases/download/0.0.3/xformers-0.0.14.dev0-cp38-cp38-linux_x86_64.whl"
      ],
      "metadata": {
        "id": "d2TN3XMgdjRk"
      },
      "id": "d2TN3XMgdjRk",
      "execution_count": null,
      "outputs": []
    },
    {
      "cell_type": "code",
      "source": [
        "import torch\n",
        "from GPUtil import showUtilization as gpu_usage\n",
        "from numba import cuda\n",
        "\n",
        "def free_gpu_cache():\n",
        "    print(\"Initial GPU Usage\")\n",
        "    gpu_usage()                             \n",
        "\n",
        "    torch.cuda.empty_cache()\n",
        "\n",
        "    cuda.select_device(0)\n",
        "    cuda.close()\n",
        "    cuda.select_device(0)\n",
        "\n",
        "    print(\"GPU Usage after emptying the cache\")\n",
        "    gpu_usage()"
      ],
      "metadata": {
        "id": "X-9qKhPn5A9e"
      },
      "id": "X-9qKhPn5A9e",
      "execution_count": null,
      "outputs": []
    },
    {
      "cell_type": "markdown",
      "id": "6105914d",
      "metadata": {
        "pycharm": {
          "name": "#%% md\n"
        },
        "id": "6105914d"
      },
      "source": [
        "### 0 - Login in HuggingFace's Hub"
      ]
    },
    {
      "cell_type": "code",
      "source": [
        "from huggingface_hub import login\n",
        "from huggingface_hub import snapshot_download\n",
        "import torch\n",
        "import os\n",
        "# setup device to use\n",
        "device = torch.device(\"cuda\" if torch.cuda.is_available() else \"cpu\")\n",
        "\n",
        "Huggingface_Token = \"\"\n",
        "login(token = Huggingface_Token )\n",
        "\n",
        "ADD_LINK = \"stabilityai/stable-diffusion-2-1-base\" # runwayml/stable-diffusion-v1-5\n",
        "WHERE_SAVE_SD_MODEL = os.getcwd()\n",
        "snapshot_download(repo_id=ADD_LINK, cache_dir = os.getcwd())"
      ],
      "metadata": {
        "id": "gj6w4A7M-te8"
      },
      "id": "gj6w4A7M-te8",
      "execution_count": null,
      "outputs": []
    },
    {
      "cell_type": "code",
      "source": [
        "MODEL_NAME = \"/content/models--stabilityai--stable-diffusion-2-1-base/snapshots/ae20c88a98ede80edcd1945220235e01292b098e\""
      ],
      "metadata": {
        "id": "rGvNs_cv8kBR"
      },
      "id": "rGvNs_cv8kBR",
      "execution_count": null,
      "outputs": []
    },
    {
      "cell_type": "code",
      "source": [
        "import torch\n",
        "from diffusers import StableDiffusionPipeline, DPMSolverMultistepScheduler, DDIMScheduler, StableDiffusionImg2ImgPipeline, LMSDiscreteScheduler\n",
        "\n",
        "\n",
        "scheduler_name=\"DPMSolverMultistepScheduler\"\n",
        "if scheduler_name == \"DPMSolverMultistepScheduler\":\n",
        "    scheduler = DPMSolverMultistepScheduler.from_pretrained(MODEL_NAME, subfolder=\"scheduler\")\n",
        "    pipe = StableDiffusionImg2ImgPipeline.from_pretrained(\n",
        "        MODEL_NAME,\n",
        "        scheduler=scheduler,\n",
        "        safety_checker=None,\n",
        "        torch_dtype=torch.float16,\n",
        "         feature_extractor=None,#раньшеработало без него\n",
        "        revision=\"fp16\",\n",
        "    ).to(\"cuda\")"
      ],
      "metadata": {
        "id": "ipUQdJQX50fc"
      },
      "id": "ipUQdJQX50fc",
      "execution_count": null,
      "outputs": []
    },
    {
      "cell_type": "code",
      "execution_count": null,
      "id": "b34724b4",
      "metadata": {
        "pycharm": {
          "name": "#%%\n"
        },
        "id": "b34724b4"
      },
      "outputs": [],
      "source": [
        "# make sure you're logged in by running the previous cell or `huggingface-cli login`\n",
        "import torch\n",
        "from contextlib import nullcontext\n",
        "import requests\n",
        "from PIL import Image\n",
        "from io import BytesIO\n",
        "from torch import autocast"
      ]
    },
    {
      "cell_type": "code",
      "source": [
        "from google.colab import drive \n",
        "drive.mount('/content/gdrive')"
      ],
      "metadata": {
        "colab": {
          "base_uri": "https://localhost:8080/"
        },
        "id": "39uVtr5KhBCE",
        "outputId": "11d92c8b-4010-4490-ddfa-95b6b8f251a4"
      },
      "id": "39uVtr5KhBCE",
      "execution_count": null,
      "outputs": [
        {
          "output_type": "stream",
          "name": "stdout",
          "text": [
            "Mounted at /content/gdrive\n"
          ]
        }
      ]
    },
    {
      "cell_type": "code",
      "source": [
        "import os\n",
        "os.chdir(\"/content/gdrive/\")\n",
        "!ls"
      ],
      "metadata": {
        "colab": {
          "base_uri": "https://localhost:8080/"
        },
        "id": "3S1UxTGjhFkW",
        "outputId": "3a2d468a-c5fe-4bb9-99f9-13eb606e578f"
      },
      "id": "3S1UxTGjhFkW",
      "execution_count": null,
      "outputs": [
        {
          "output_type": "stream",
          "name": "stdout",
          "text": [
            "MyDrive\n"
          ]
        }
      ]
    },
    {
      "cell_type": "code",
      "source": [
        "with open('/content/gdrive/MyDrive/Project/images/descriptions.txt') as f:\n",
        "    list_str = f.read().splitlines() "
      ],
      "metadata": {
        "id": "55k8EDBKl5UC"
      },
      "id": "55k8EDBKl5UC",
      "execution_count": null,
      "outputs": []
    },
    {
      "cell_type": "markdown",
      "source": [
        "##painting in the style of Banksy"
      ],
      "metadata": {
        "id": "TTzTFVDmg1Sl"
      },
      "id": "TTzTFVDmg1Sl"
    },
    {
      "cell_type": "code",
      "source": [
        "negative_prompt = \"\" \n",
        "num_samples = 1 \n",
        "guidance_scale =  9\n",
        "num_inference_steps = 100 # num_inference_steps - (num_inference_steps - num_inference_steps*strength)\n",
        "strength = 0.7\n",
        "\n",
        "for i in range(1, 265):\n",
        "  prompt = 'painting in the style of Banksy image ' + list_str[i]\n",
        "  init_image = Image.open('/content/gdrive/MyDrive/Project/images/' + str(i) + '.jpg').convert(\"RGB\")\n",
        "  init_image = init_image.resize((512, 512))\n",
        "\n",
        "  with autocast(\"cuda\"), torch.inference_mode():\n",
        "          images = pipe(\n",
        "              prompt=prompt, \n",
        "              image=init_image, \n",
        "              strength=strength,\n",
        "              negative_prompt=negative_prompt,\n",
        "              num_images_per_prompt=num_samples,\n",
        "              num_inference_steps=num_inference_steps,\n",
        "              guidance_scale=guidance_scale,\n",
        "              generator=None,\n",
        "          ).images\n",
        "  # Final generated image \n",
        "  for img in images:\n",
        "    img.save('/content/gdrive/MyDrive/Project/banksy/' + str(i) + '.jpg')"
      ],
      "metadata": {
        "id": "T5XYIXEB91oW"
      },
      "id": "T5XYIXEB91oW",
      "execution_count": null,
      "outputs": []
    },
    {
      "cell_type": "markdown",
      "source": [
        "##painting in the style of Vincent Van Gogh"
      ],
      "metadata": {
        "id": "fn1UKscIxD-g"
      },
      "id": "fn1UKscIxD-g"
    },
    {
      "cell_type": "code",
      "source": [
        "negative_prompt = \"\" \n",
        "num_samples = 1 \n",
        "guidance_scale =  9\n",
        "num_inference_steps = 100 # num_inference_steps - (num_inference_steps - num_inference_steps*strength)\n",
        "strength = 0.7\n",
        "\n",
        "for i in range(1, 265):\n",
        "  prompt = 'painting in the style of Vincent Van Gogh image ' + list_str[i]\n",
        "  init_image = Image.open('/content/gdrive/MyDrive/Project/images/' + str(i) + '.jpg').convert(\"RGB\")\n",
        "  init_image = init_image.resize((512, 512))\n",
        "\n",
        "  with autocast(\"cuda\"), torch.inference_mode():\n",
        "          images = pipe(\n",
        "              prompt=prompt, \n",
        "              image=init_image, \n",
        "              strength=strength,\n",
        "              negative_prompt=negative_prompt,\n",
        "              num_images_per_prompt=num_samples,\n",
        "              num_inference_steps=num_inference_steps,\n",
        "              guidance_scale=guidance_scale,\n",
        "              generator=None,\n",
        "          ).images\n",
        "  # Final generated image \n",
        "  for img in images:\n",
        "    img.save('/content/gdrive/MyDrive/Project/vincent/' + str(i) + '.jpg')"
      ],
      "metadata": {
        "id": "CMoAxah996p9"
      },
      "id": "CMoAxah996p9",
      "execution_count": null,
      "outputs": []
    },
    {
      "cell_type": "markdown",
      "source": [
        "##painting in the sad style"
      ],
      "metadata": {
        "id": "3Hmo00GWyM8_"
      },
      "id": "3Hmo00GWyM8_"
    },
    {
      "cell_type": "code",
      "source": [
        "negative_prompt = \"\" \n",
        "num_samples = 1 \n",
        "guidance_scale =  9\n",
        "num_inference_steps = 100 # num_inference_steps - (num_inference_steps - num_inference_steps*strength)\n",
        "strength = 0.7\n",
        "\n",
        "for i in range(1, 265):\n",
        "  prompt = 'sad image ' + list_str[i]\n",
        "  init_image = Image.open('/content/gdrive/MyDrive/Project/images/' + str(i) + '.jpg').convert(\"RGB\")\n",
        "  init_image = init_image.resize((512, 512))\n",
        "\n",
        "  with autocast(\"cuda\"), torch.inference_mode():\n",
        "          images = pipe(\n",
        "              prompt=prompt, \n",
        "              image=init_image, \n",
        "              strength=strength,\n",
        "              negative_prompt=negative_prompt,\n",
        "              num_images_per_prompt=num_samples,\n",
        "              num_inference_steps=num_inference_steps,\n",
        "              guidance_scale=guidance_scale,\n",
        "              generator=None,\n",
        "          ).images\n",
        "  # Final generated image \n",
        "  for img in images:\n",
        "    img.save('/content/gdrive/MyDrive/Project/sad/' + str(i) + '.jpg')"
      ],
      "metadata": {
        "id": "KIg9o6nQ9--E"
      },
      "id": "KIg9o6nQ9--E",
      "execution_count": null,
      "outputs": []
    },
    {
      "cell_type": "markdown",
      "source": [
        "##painting in the panda style"
      ],
      "metadata": {
        "id": "HG0-Rli7ykyV"
      },
      "id": "HG0-Rli7ykyV"
    },
    {
      "cell_type": "code",
      "source": [
        "negative_prompt = \"\" \n",
        "num_samples = 1 \n",
        "guidance_scale =  9\n",
        "num_inference_steps = 100 # num_inference_steps - (num_inference_steps - num_inference_steps*strength)\n",
        "strength = 0.7\n",
        "\n",
        "for i in range(1, 265):\n",
        "  prompt = 'panda image ' + list_str[i]\n",
        "  init_image = Image.open('/content/gdrive/MyDrive/Project/images/' + str(i) + '.jpg').convert(\"RGB\")\n",
        "  init_image = init_image.resize((512, 512))\n",
        "\n",
        "  with autocast(\"cuda\"), torch.inference_mode():\n",
        "          images = pipe(\n",
        "              prompt=prompt, \n",
        "              image=init_image, \n",
        "              strength=strength,\n",
        "              negative_prompt=negative_prompt,\n",
        "              num_images_per_prompt=num_samples,\n",
        "              num_inference_steps=num_inference_steps,\n",
        "              guidance_scale=guidance_scale,\n",
        "              generator=None,\n",
        "          ).images\n",
        "  # Final generated image \n",
        "  for img in images:\n",
        "    img.save('/content/gdrive/MyDrive/Project/panda/' + str(i) + '.jpg')"
      ],
      "metadata": {
        "id": "dXxjUMCr-IA0"
      },
      "id": "dXxjUMCr-IA0",
      "execution_count": null,
      "outputs": []
    },
    {
      "cell_type": "markdown",
      "source": [
        "#Statistics"
      ],
      "metadata": {
        "id": "VgpgXTfL6qsD"
      },
      "id": "VgpgXTfL6qsD"
    },
    {
      "cell_type": "markdown",
      "source": [
        "###panda"
      ],
      "metadata": {
        "id": "Oj-pGAooJf70"
      },
      "id": "Oj-pGAooJf70"
    },
    {
      "cell_type": "code",
      "source": [
        "with open('/content/gdrive/MyDrive/Project/images/matching_style_panda.txt') as f:\n",
        "    list_str = f.read().splitlines() \n",
        "\n",
        "ans_panda = [0,]\n",
        "for i in range(1, 265):\n",
        "  if list_str[i] == \"yes\":\n",
        "    h = 1\n",
        "  else:\n",
        "    h = 0\n",
        "  ans_panda.append((ans_panda[i - 1] * (i - 1) + h) / i)\n",
        "\n",
        "\n",
        "with open('/content/gdrive/MyDrive/Project/images/matching_style_sad.txt') as f:\n",
        "    list_str = f.read().splitlines() \n",
        "\n",
        "ans_sad = [0,]\n",
        "for i in range(1, 265):\n",
        "  if list_str[i] == \"yes\":\n",
        "    h = 1\n",
        "  else:\n",
        "    h = 0\n",
        "  ans_sad.append((ans_sad[i - 1] * (i - 1) + h) / i)\n",
        "\n",
        "\n",
        "with open('/content/gdrive/MyDrive/Project/images/matching_style_Vincent.txt') as f:\n",
        "    list_str = f.read().splitlines() \n",
        "\n",
        "ans_vincent = [0,]\n",
        "for i in range(1, 265):\n",
        "  if list_str[i] == \"yes\":\n",
        "    h = 1\n",
        "  else:\n",
        "    h = 0\n",
        "  ans_vincent.append((ans_vincent[i - 1] * (i - 1) + h) / i)\n",
        "\n",
        "\n",
        "with open('/content/gdrive/MyDrive/Project/images/matching_style_Banksy.txt') as f:\n",
        "    list_str = f.read().splitlines() \n",
        "\n",
        "ans_Banksy = [0,]\n",
        "for i in range(1, 265):\n",
        "  if list_str[i] == \"yes\":\n",
        "    h = 1\n",
        "  else:\n",
        "    h = 0\n",
        "  ans_Banksy.append((ans_Banksy[i - 1] * (i - 1) + h) / i)"
      ],
      "metadata": {
        "id": "MO08EqjNGg-L"
      },
      "id": "MO08EqjNGg-L",
      "execution_count": null,
      "outputs": []
    },
    {
      "cell_type": "code",
      "source": [
        "import matplotlib.pyplot as plt\n",
        "plt.figure(figsize=(15, 10))\n",
        "plt.grid(True)\n",
        "plt.xlabel('Sample size')\n",
        "plt.ylabel('Probability')\n",
        "plt.title('Зависимость качества стиля на генерируемых катринках от размера выборки', size = 20)\n",
        "x = [i for i in range(0, 264)]\n",
        "\n",
        "plt.plot(x, ans_panda, 'r', label='Panda')\n",
        "plt.plot(x, ans_sad, 'b', label='Sad')\n",
        "plt.plot(x, ans_vincent, 'g', label='Vincent Van Gogh')\n",
        "plt.plot(x, ans_Banksy, 'y', label='Banksy')\n",
        "plt.legend()"
      ],
      "metadata": {
        "colab": {
          "base_uri": "https://localhost:8080/",
          "height": 644
        },
        "id": "sjBhP7CQH7xk",
        "outputId": "ee2db192-9589-4a02-a71a-9a75193acd84"
      },
      "id": "sjBhP7CQH7xk",
      "execution_count": null,
      "outputs": [
        {
          "output_type": "execute_result",
          "data": {
            "text/plain": [
              "<matplotlib.legend.Legend at 0x7faf9b7ab430>"
            ]
          },
          "metadata": {},
          "execution_count": 82
        },
        {
          "output_type": "display_data",
          "data": {
            "text/plain": [
              "<Figure size 1080x720 with 1 Axes>"
            ],
            "image/png": "[encoded data removed]"
          },
          "metadata": {
            "needs_background": "light"
          }
        }
      ]
    }
  ],
  "metadata": {
    "kernelspec": {
      "display_name": "Python 3 (ipykernel)",
      "language": "python",
      "name": "python3"
    },
    "language_info": {
      "codemirror_mode": {
        "name": "ipython",
        "version": 3
      },
      "file_extension": ".py",
      "mimetype": "text/x-python",
      "name": "python",
      "nbconvert_exporter": "python",
      "pygments_lexer": "ipython3",
      "version": "3.10.4"
    },
    "colab": {
      "provenance": []
    },
    "accelerator": "GPU",
    "gpuClass": "standard",
    "widgets": {
      "application/vnd.jupyter.widget-state+json": {
        "9d01824edff543e89ee7c84029ea7739": {
          "model_module": "@jupyter-widgets/controls",
          "model_name": "HBoxModel",
          "model_module_version": "1.5.0",
          "state": {
            "_dom_classes": [],
            "_model_module": "@jupyter-widgets/controls",
            "_model_module_version": "1.5.0",
            "_model_name": "HBoxModel",
            "_view_count": null,
            "_view_module": "@jupyter-widgets/controls",
            "_view_module_version": "1.5.0",
            "_view_name": "HBoxView",
            "box_style": "",
            "children": [
              "IPY_MODEL_52c203c428cf479d92e7951346b5f141",
              "IPY_MODEL_e8b106f86ed74fd6ac11036b9a7bf692",
              "IPY_MODEL_24060af1d7ac45bdb1ac1dc92522847f"
            ],
            "layout": "IPY_MODEL_638075cdede44119b283026b68e3dc8c"
          }
        },
        "52c203c428cf479d92e7951346b5f141": {
          "model_module": "@jupyter-widgets/controls",
          "model_name": "HTMLModel",
          "model_module_version": "1.5.0",
          "state": {
            "_dom_classes": [],
            "_model_module": "@jupyter-widgets/controls",
            "_model_module_version": "1.5.0",
            "_model_name": "HTMLModel",
            "_view_count": null,
            "_view_module": "@jupyter-widgets/controls",
            "_view_module_version": "1.5.0",
            "_view_name": "HTMLView",
            "description": "",
            "description_tooltip": null,
            "layout": "IPY_MODEL_218c5ca4aa9c4c33a52050cce456d60e",
            "placeholder": "​",
            "style": "IPY_MODEL_a45ca9a06c334cf9b5349b759d4a1867",
            "value": "Downloading vocab.txt: 100%"
          }
        },
        "e8b106f86ed74fd6ac11036b9a7bf692": {
          "model_module": "@jupyter-widgets/controls",
          "model_name": "FloatProgressModel",
          "model_module_version": "1.5.0",
          "state": {
            "_dom_classes": [],
            "_model_module": "@jupyter-widgets/controls",
            "_model_module_version": "1.5.0",
            "_model_name": "FloatProgressModel",
            "_view_count": null,
            "_view_module": "@jupyter-widgets/controls",
            "_view_module_version": "1.5.0",
            "_view_name": "ProgressView",
            "bar_style": "success",
            "description": "",
            "description_tooltip": null,
            "layout": "IPY_MODEL_09cb928e2b3c43538b955b5f8739f6e6",
            "max": 231508,
            "min": 0,
            "orientation": "horizontal",
            "style": "IPY_MODEL_d9bcffc274ae4c1fbb3b9fed5a981593",
            "value": 231508
          }
        },
        "24060af1d7ac45bdb1ac1dc92522847f": {
          "model_module": "@jupyter-widgets/controls",
          "model_name": "HTMLModel",
          "model_module_version": "1.5.0",
          "state": {
            "_dom_classes": [],
            "_model_module": "@jupyter-widgets/controls",
            "_model_module_version": "1.5.0",
            "_model_name": "HTMLModel",
            "_view_count": null,
            "_view_module": "@jupyter-widgets/controls",
            "_view_module_version": "1.5.0",
            "_view_name": "HTMLView",
            "description": "",
            "description_tooltip": null,
            "layout": "IPY_MODEL_ef04e58107034984b17209e1118b5511",
            "placeholder": "​",
            "style": "IPY_MODEL_6d668604f9b74d3dab96d12c7dcffe5a",
            "value": " 226k/226k [00:00&lt;00:00, 1.69MB/s]"
          }
        },
        "638075cdede44119b283026b68e3dc8c": {
          "model_module": "@jupyter-widgets/base",
          "model_name": "LayoutModel",
          "model_module_version": "1.2.0",
          "state": {
            "_model_module": "@jupyter-widgets/base",
            "_model_module_version": "1.2.0",
            "_model_name": "LayoutModel",
            "_view_count": null,
            "_view_module": "@jupyter-widgets/base",
            "_view_module_version": "1.2.0",
            "_view_name": "LayoutView",
            "align_content": null,
            "align_items": null,
            "align_self": null,
            "border": null,
            "bottom": null,
            "display": null,
            "flex": null,
            "flex_flow": null,
            "grid_area": null,
            "grid_auto_columns": null,
            "grid_auto_flow": null,
            "grid_auto_rows": null,
            "grid_column": null,
            "grid_gap": null,
            "grid_row": null,
            "grid_template_areas": null,
            "grid_template_columns": null,
            "grid_template_rows": null,
            "height": null,
            "justify_content": null,
            "justify_items": null,
            "left": null,
            "margin": null,
            "max_height": null,
            "max_width": null,
            "min_height": null,
            "min_width": null,
            "object_fit": null,
            "object_position": null,
            "order": null,
            "overflow": null,
            "overflow_x": null,
            "overflow_y": null,
            "padding": null,
            "right": null,
            "top": null,
            "visibility": null,
            "width": null
          }
        },
        "218c5ca4aa9c4c33a52050cce456d60e": {
          "model_module": "@jupyter-widgets/base",
          "model_name": "LayoutModel",
          "model_module_version": "1.2.0",
          "state": {
            "_model_module": "@jupyter-widgets/base",
            "_model_module_version": "1.2.0",
            "_model_name": "LayoutModel",
            "_view_count": null,
            "_view_module": "@jupyter-widgets/base",
            "_view_module_version": "1.2.0",
            "_view_name": "LayoutView",
            "align_content": null,
            "align_items": null,
            "align_self": null,
            "border": null,
            "bottom": null,
            "display": null,
            "flex": null,
            "flex_flow": null,
            "grid_area": null,
            "grid_auto_columns": null,
            "grid_auto_flow": null,
            "grid_auto_rows": null,
            "grid_column": null,
            "grid_gap": null,
            "grid_row": null,
            "grid_template_areas": null,
            "grid_template_columns": null,
            "grid_template_rows": null,
            "height": null,
            "justify_content": null,
            "justify_items": null,
            "left": null,
            "margin": null,
            "max_height": null,
            "max_width": null,
            "min_height": null,
            "min_width": null,
            "object_fit": null,
            "object_position": null,
            "order": null,
            "overflow": null,
            "overflow_x": null,
            "overflow_y": null,
            "padding": null,
            "right": null,
            "top": null,
            "visibility": null,
            "width": null
          }
        },
        "a45ca9a06c334cf9b5349b759d4a1867": {
          "model_module": "@jupyter-widgets/controls",
          "model_name": "DescriptionStyleModel",
          "model_module_version": "1.5.0",
          "state": {
            "_model_module": "@jupyter-widgets/controls",
            "_model_module_version": "1.5.0",
            "_model_name": "DescriptionStyleModel",
            "_view_count": null,
            "_view_module": "@jupyter-widgets/base",
            "_view_module_version": "1.2.0",
            "_view_name": "StyleView",
            "description_width": ""
          }
        },
        "09cb928e2b3c43538b955b5f8739f6e6": {
          "model_module": "@jupyter-widgets/base",
          "model_name": "LayoutModel",
          "model_module_version": "1.2.0",
          "state": {
            "_model_module": "@jupyter-widgets/base",
            "_model_module_version": "1.2.0",
            "_model_name": "LayoutModel",
            "_view_count": null,
            "_view_module": "@jupyter-widgets/base",
            "_view_module_version": "1.2.0",
            "_view_name": "LayoutView",
            "align_content": null,
            "align_items": null,
            "align_self": null,
            "border": null,
            "bottom": null,
            "display": null,
            "flex": null,
            "flex_flow": null,
            "grid_area": null,
            "grid_auto_columns": null,
            "grid_auto_flow": null,
            "grid_auto_rows": null,
            "grid_column": null,
            "grid_gap": null,
            "grid_row": null,
            "grid_template_areas": null,
            "grid_template_columns": null,
            "grid_template_rows": null,
            "height": null,
            "justify_content": null,
            "justify_items": null,
            "left": null,
            "margin": null,
            "max_height": null,
            "max_width": null,
            "min_height": null,
            "min_width": null,
            "object_fit": null,
            "object_position": null,
            "order": null,
            "overflow": null,
            "overflow_x": null,
            "overflow_y": null,
            "padding": null,
            "right": null,
            "top": null,
            "visibility": null,
            "width": null
          }
        },
        "d9bcffc274ae4c1fbb3b9fed5a981593": {
          "model_module": "@jupyter-widgets/controls",
          "model_name": "ProgressStyleModel",
          "model_module_version": "1.5.0",
          "state": {
            "_model_module": "@jupyter-widgets/controls",
            "_model_module_version": "1.5.0",
            "_model_name": "ProgressStyleModel",
            "_view_count": null,
            "_view_module": "@jupyter-widgets/base",
            "_view_module_version": "1.2.0",
            "_view_name": "StyleView",
            "bar_color": null,
            "description_width": ""
          }
        },
        "ef04e58107034984b17209e1118b5511": {
          "model_module": "@jupyter-widgets/base",
          "model_name": "LayoutModel",
          "model_module_version": "1.2.0",
          "state": {
            "_model_module": "@jupyter-widgets/base",
            "_model_module_version": "1.2.0",
            "_model_name": "LayoutModel",
            "_view_count": null,
            "_view_module": "@jupyter-widgets/base",
            "_view_module_version": "1.2.0",
            "_view_name": "LayoutView",
            "align_content": null,
            "align_items": null,
            "align_self": null,
            "border": null,
            "bottom": null,
            "display": null,
            "flex": null,
            "flex_flow": null,
            "grid_area": null,
            "grid_auto_columns": null,
            "grid_auto_flow": null,
            "grid_auto_rows": null,
            "grid_column": null,
            "grid_gap": null,
            "grid_row": null,
            "grid_template_areas": null,
            "grid_template_columns": null,
            "grid_template_rows": null,
            "height": null,
            "justify_content": null,
            "justify_items": null,
            "left": null,
            "margin": null,
            "max_height": null,
            "max_width": null,
            "min_height": null,
            "min_width": null,
            "object_fit": null,
            "object_position": null,
            "order": null,
            "overflow": null,
            "overflow_x": null,
            "overflow_y": null,
            "padding": null,
            "right": null,
            "top": null,
            "visibility": null,
            "width": null
          }
        },
        "6d668604f9b74d3dab96d12c7dcffe5a": {
          "model_module": "@jupyter-widgets/controls",
          "model_name": "DescriptionStyleModel",
          "model_module_version": "1.5.0",
          "state": {
            "_model_module": "@jupyter-widgets/controls",
            "_model_module_version": "1.5.0",
            "_model_name": "DescriptionStyleModel",
            "_view_count": null,
            "_view_module": "@jupyter-widgets/base",
            "_view_module_version": "1.2.0",
            "_view_name": "StyleView",
            "description_width": ""
          }
        },
        "bb54c2751a80466995e7b3d8a8f84c72": {
          "model_module": "@jupyter-widgets/controls",
          "model_name": "HBoxModel",
          "model_module_version": "1.5.0",
          "state": {
            "_dom_classes": [],
            "_model_module": "@jupyter-widgets/controls",
            "_model_module_version": "1.5.0",
            "_model_name": "HBoxModel",
            "_view_count": null,
            "_view_module": "@jupyter-widgets/controls",
            "_view_module_version": "1.5.0",
            "_view_name": "HBoxView",
            "box_style": "",
            "children": [
              "IPY_MODEL_422ac141f9704200911b5bb38de3b0b4",
              "IPY_MODEL_38b690c24fd14db2bfd42bf863055e53",
              "IPY_MODEL_290d1b3c6e2c46d68443a2216a20237d"
            ],
            "layout": "IPY_MODEL_27baf538b7dc4e2e904012f9636b2ffd"
          }
        },
        "422ac141f9704200911b5bb38de3b0b4": {
          "model_module": "@jupyter-widgets/controls",
          "model_name": "HTMLModel",
          "model_module_version": "1.5.0",
          "state": {
            "_dom_classes": [],
            "_model_module": "@jupyter-widgets/controls",
            "_model_module_version": "1.5.0",
            "_model_name": "HTMLModel",
            "_view_count": null,
            "_view_module": "@jupyter-widgets/controls",
            "_view_module_version": "1.5.0",
            "_view_name": "HTMLView",
            "description": "",
            "description_tooltip": null,
            "layout": "IPY_MODEL_becbf8cc29234e5faac5a9c34cebb1d3",
            "placeholder": "​",
            "style": "IPY_MODEL_ec7d23da16e542ada9da46696bd054cf",
            "value": "Downloading tokenizer_config.json: 100%"
          }
        },
        "38b690c24fd14db2bfd42bf863055e53": {
          "model_module": "@jupyter-widgets/controls",
          "model_name": "FloatProgressModel",
          "model_module_version": "1.5.0",
          "state": {
            "_dom_classes": [],
            "_model_module": "@jupyter-widgets/controls",
            "_model_module_version": "1.5.0",
            "_model_name": "FloatProgressModel",
            "_view_count": null,
            "_view_module": "@jupyter-widgets/controls",
            "_view_module_version": "1.5.0",
            "_view_name": "ProgressView",
            "bar_style": "success",
            "description": "",
            "description_tooltip": null,
            "layout": "IPY_MODEL_98435b9daf324633a9253b320b9961d2",
            "max": 28,
            "min": 0,
            "orientation": "horizontal",
            "style": "IPY_MODEL_d1064624001946ba89a4955e78845b54",
            "value": 28
          }
        },
        "290d1b3c6e2c46d68443a2216a20237d": {
          "model_module": "@jupyter-widgets/controls",
          "model_name": "HTMLModel",
          "model_module_version": "1.5.0",
          "state": {
            "_dom_classes": [],
            "_model_module": "@jupyter-widgets/controls",
            "_model_module_version": "1.5.0",
            "_model_name": "HTMLModel",
            "_view_count": null,
            "_view_module": "@jupyter-widgets/controls",
            "_view_module_version": "1.5.0",
            "_view_name": "HTMLView",
            "description": "",
            "description_tooltip": null,
            "layout": "IPY_MODEL_946a93f7ee66496982dcd774299ebbe1",
            "placeholder": "​",
            "style": "IPY_MODEL_45a196adb50d44568cac1ea75d0b9737",
            "value": " 28.0/28.0 [00:00&lt;00:00, 837B/s]"
          }
        },
        "27baf538b7dc4e2e904012f9636b2ffd": {
          "model_module": "@jupyter-widgets/base",
          "model_name": "LayoutModel",
          "model_module_version": "1.2.0",
          "state": {
            "_model_module": "@jupyter-widgets/base",
            "_model_module_version": "1.2.0",
            "_model_name": "LayoutModel",
            "_view_count": null,
            "_view_module": "@jupyter-widgets/base",
            "_view_module_version": "1.2.0",
            "_view_name": "LayoutView",
            "align_content": null,
            "align_items": null,
            "align_self": null,
            "border": null,
            "bottom": null,
            "display": null,
            "flex": null,
            "flex_flow": null,
            "grid_area": null,
            "grid_auto_columns": null,
            "grid_auto_flow": null,
            "grid_auto_rows": null,
            "grid_column": null,
            "grid_gap": null,
            "grid_row": null,
            "grid_template_areas": null,
            "grid_template_columns": null,
            "grid_template_rows": null,
            "height": null,
            "justify_content": null,
            "justify_items": null,
            "left": null,
            "margin": null,
            "max_height": null,
            "max_width": null,
            "min_height": null,
            "min_width": null,
            "object_fit": null,
            "object_position": null,
            "order": null,
            "overflow": null,
            "overflow_x": null,
            "overflow_y": null,
            "padding": null,
            "right": null,
            "top": null,
            "visibility": null,
            "width": null
          }
        },
        "becbf8cc29234e5faac5a9c34cebb1d3": {
          "model_module": "@jupyter-widgets/base",
          "model_name": "LayoutModel",
          "model_module_version": "1.2.0",
          "state": {
            "_model_module": "@jupyter-widgets/base",
            "_model_module_version": "1.2.0",
            "_model_name": "LayoutModel",
            "_view_count": null,
            "_view_module": "@jupyter-widgets/base",
            "_view_module_version": "1.2.0",
            "_view_name": "LayoutView",
            "align_content": null,
            "align_items": null,
            "align_self": null,
            "border": null,
            "bottom": null,
            "display": null,
            "flex": null,
            "flex_flow": null,
            "grid_area": null,
            "grid_auto_columns": null,
            "grid_auto_flow": null,
            "grid_auto_rows": null,
            "grid_column": null,
            "grid_gap": null,
            "grid_row": null,
            "grid_template_areas": null,
            "grid_template_columns": null,
            "grid_template_rows": null,
            "height": null,
            "justify_content": null,
            "justify_items": null,
            "left": null,
            "margin": null,
            "max_height": null,
            "max_width": null,
            "min_height": null,
            "min_width": null,
            "object_fit": null,
            "object_position": null,
            "order": null,
            "overflow": null,
            "overflow_x": null,
            "overflow_y": null,
            "padding": null,
            "right": null,
            "top": null,
            "visibility": null,
            "width": null
          }
        },
        "ec7d23da16e542ada9da46696bd054cf": {
          "model_module": "@jupyter-widgets/controls",
          "model_name": "DescriptionStyleModel",
          "model_module_version": "1.5.0",
          "state": {
            "_model_module": "@jupyter-widgets/controls",
            "_model_module_version": "1.5.0",
            "_model_name": "DescriptionStyleModel",
            "_view_count": null,
            "_view_module": "@jupyter-widgets/base",
            "_view_module_version": "1.2.0",
            "_view_name": "StyleView",
            "description_width": ""
          }
        },
        "98435b9daf324633a9253b320b9961d2": {
          "model_module": "@jupyter-widgets/base",
          "model_name": "LayoutModel",
          "model_module_version": "1.2.0",
          "state": {
            "_model_module": "@jupyter-widgets/base",
            "_model_module_version": "1.2.0",
            "_model_name": "LayoutModel",
            "_view_count": null,
            "_view_module": "@jupyter-widgets/base",
            "_view_module_version": "1.2.0",
            "_view_name": "LayoutView",
            "align_content": null,
            "align_items": null,
            "align_self": null,
            "border": null,
            "bottom": null,
            "display": null,
            "flex": null,
            "flex_flow": null,
            "grid_area": null,
            "grid_auto_columns": null,
            "grid_auto_flow": null,
            "grid_auto_rows": null,
            "grid_column": null,
            "grid_gap": null,
            "grid_row": null,
            "grid_template_areas": null,
            "grid_template_columns": null,
            "grid_template_rows": null,
            "height": null,
            "justify_content": null,
            "justify_items": null,
            "left": null,
            "margin": null,
            "max_height": null,
            "max_width": null,
            "min_height": null,
            "min_width": null,
            "object_fit": null,
            "object_position": null,
            "order": null,
            "overflow": null,
            "overflow_x": null,
            "overflow_y": null,
            "padding": null,
            "right": null,
            "top": null,
            "visibility": null,
            "width": null
          }
        },
        "d1064624001946ba89a4955e78845b54": {
          "model_module": "@jupyter-widgets/controls",
          "model_name": "ProgressStyleModel",
          "model_module_version": "1.5.0",
          "state": {
            "_model_module": "@jupyter-widgets/controls",
            "_model_module_version": "1.5.0",
            "_model_name": "ProgressStyleModel",
            "_view_count": null,
            "_view_module": "@jupyter-widgets/base",
            "_view_module_version": "1.2.0",
            "_view_name": "StyleView",
            "bar_color": null,
            "description_width": ""
          }
        },
        "946a93f7ee66496982dcd774299ebbe1": {
          "model_module": "@jupyter-widgets/base",
          "model_name": "LayoutModel",
          "model_module_version": "1.2.0",
          "state": {
            "_model_module": "@jupyter-widgets/base",
            "_model_module_version": "1.2.0",
            "_model_name": "LayoutModel",
            "_view_count": null,
            "_view_module": "@jupyter-widgets/base",
            "_view_module_version": "1.2.0",
            "_view_name": "LayoutView",
            "align_content": null,
            "align_items": null,
            "align_self": null,
            "border": null,
            "bottom": null,
            "display": null,
            "flex": null,
            "flex_flow": null,
            "grid_area": null,
            "grid_auto_columns": null,
            "grid_auto_flow": null,
            "grid_auto_rows": null,
            "grid_column": null,
            "grid_gap": null,
            "grid_row": null,
            "grid_template_areas": null,
            "grid_template_columns": null,
            "grid_template_rows": null,
            "height": null,
            "justify_content": null,
            "justify_items": null,
            "left": null,
            "margin": null,
            "max_height": null,
            "max_width": null,
            "min_height": null,
            "min_width": null,
            "object_fit": null,
            "object_position": null,
            "order": null,
            "overflow": null,
            "overflow_x": null,
            "overflow_y": null,
            "padding": null,
            "right": null,
            "top": null,
            "visibility": null,
            "width": null
          }
        },
        "45a196adb50d44568cac1ea75d0b9737": {
          "model_module": "@jupyter-widgets/controls",
          "model_name": "DescriptionStyleModel",
          "model_module_version": "1.5.0",
          "state": {
            "_model_module": "@jupyter-widgets/controls",
            "_model_module_version": "1.5.0",
            "_model_name": "DescriptionStyleModel",
            "_view_count": null,
            "_view_module": "@jupyter-widgets/base",
            "_view_module_version": "1.2.0",
            "_view_name": "StyleView",
            "description_width": ""
          }
        },
        "38aa635b09144745b3a6c4b7bdd816e3": {
          "model_module": "@jupyter-widgets/controls",
          "model_name": "HBoxModel",
          "model_module_version": "1.5.0",
          "state": {
            "_dom_classes": [],
            "_model_module": "@jupyter-widgets/controls",
            "_model_module_version": "1.5.0",
            "_model_name": "HBoxModel",
            "_view_count": null,
            "_view_module": "@jupyter-widgets/controls",
            "_view_module_version": "1.5.0",
            "_view_name": "HBoxView",
            "box_style": "",
            "children": [
              "IPY_MODEL_4eba435b395d4a9da395d6d3e6aa8b93",
              "IPY_MODEL_224464fa180846f7a0466682c715f804",
              "IPY_MODEL_806b3605b5074b99a0801dfa84e64aee"
            ],
            "layout": "IPY_MODEL_b1b549ea27874b91b049cc25590d121c"
          }
        },
        "4eba435b395d4a9da395d6d3e6aa8b93": {
          "model_module": "@jupyter-widgets/controls",
          "model_name": "HTMLModel",
          "model_module_version": "1.5.0",
          "state": {
            "_dom_classes": [],
            "_model_module": "@jupyter-widgets/controls",
            "_model_module_version": "1.5.0",
            "_model_name": "HTMLModel",
            "_view_count": null,
            "_view_module": "@jupyter-widgets/controls",
            "_view_module_version": "1.5.0",
            "_view_name": "HTMLView",
            "description": "",
            "description_tooltip": null,
            "layout": "IPY_MODEL_d039b25b45b84f06a69856e0a88afcdf",
            "placeholder": "​",
            "style": "IPY_MODEL_3de37ad985b54d95b52764fc4ce21e68",
            "value": "Downloading config.json: 100%"
          }
        },
        "224464fa180846f7a0466682c715f804": {
          "model_module": "@jupyter-widgets/controls",
          "model_name": "FloatProgressModel",
          "model_module_version": "1.5.0",
          "state": {
            "_dom_classes": [],
            "_model_module": "@jupyter-widgets/controls",
            "_model_module_version": "1.5.0",
            "_model_name": "FloatProgressModel",
            "_view_count": null,
            "_view_module": "@jupyter-widgets/controls",
            "_view_module_version": "1.5.0",
            "_view_name": "ProgressView",
            "bar_style": "success",
            "description": "",
            "description_tooltip": null,
            "layout": "IPY_MODEL_492f9490b19342dd85a67c912210e058",
            "max": 570,
            "min": 0,
            "orientation": "horizontal",
            "style": "IPY_MODEL_70c24d3e223944c8aba64cf02fc81497",
            "value": 570
          }
        },
        "806b3605b5074b99a0801dfa84e64aee": {
          "model_module": "@jupyter-widgets/controls",
          "model_name": "HTMLModel",
          "model_module_version": "1.5.0",
          "state": {
            "_dom_classes": [],
            "_model_module": "@jupyter-widgets/controls",
            "_model_module_version": "1.5.0",
            "_model_name": "HTMLModel",
            "_view_count": null,
            "_view_module": "@jupyter-widgets/controls",
            "_view_module_version": "1.5.0",
            "_view_name": "HTMLView",
            "description": "",
            "description_tooltip": null,
            "layout": "IPY_MODEL_4e7e087da9974f0dbaee1c0c5dddd849",
            "placeholder": "​",
            "style": "IPY_MODEL_ce9a052cb1bf45eb99c81c472c269e3f",
            "value": " 570/570 [00:00&lt;00:00, 14.9kB/s]"
          }
        },
        "b1b549ea27874b91b049cc25590d121c": {
          "model_module": "@jupyter-widgets/base",
          "model_name": "LayoutModel",
          "model_module_version": "1.2.0",
          "state": {
            "_model_module": "@jupyter-widgets/base",
            "_model_module_version": "1.2.0",
            "_model_name": "LayoutModel",
            "_view_count": null,
            "_view_module": "@jupyter-widgets/base",
            "_view_module_version": "1.2.0",
            "_view_name": "LayoutView",
            "align_content": null,
            "align_items": null,
            "align_self": null,
            "border": null,
            "bottom": null,
            "display": null,
            "flex": null,
            "flex_flow": null,
            "grid_area": null,
            "grid_auto_columns": null,
            "grid_auto_flow": null,
            "grid_auto_rows": null,
            "grid_column": null,
            "grid_gap": null,
            "grid_row": null,
            "grid_template_areas": null,
            "grid_template_columns": null,
            "grid_template_rows": null,
            "height": null,
            "justify_content": null,
            "justify_items": null,
            "left": null,
            "margin": null,
            "max_height": null,
            "max_width": null,
            "min_height": null,
            "min_width": null,
            "object_fit": null,
            "object_position": null,
            "order": null,
            "overflow": null,
            "overflow_x": null,
            "overflow_y": null,
            "padding": null,
            "right": null,
            "top": null,
            "visibility": null,
            "width": null
          }
        },
        "d039b25b45b84f06a69856e0a88afcdf": {
          "model_module": "@jupyter-widgets/base",
          "model_name": "LayoutModel",
          "model_module_version": "1.2.0",
          "state": {
            "_model_module": "@jupyter-widgets/base",
            "_model_module_version": "1.2.0",
            "_model_name": "LayoutModel",
            "_view_count": null,
            "_view_module": "@jupyter-widgets/base",
            "_view_module_version": "1.2.0",
            "_view_name": "LayoutView",
            "align_content": null,
            "align_items": null,
            "align_self": null,
            "border": null,
            "bottom": null,
            "display": null,
            "flex": null,
            "flex_flow": null,
            "grid_area": null,
            "grid_auto_columns": null,
            "grid_auto_flow": null,
            "grid_auto_rows": null,
            "grid_column": null,
            "grid_gap": null,
            "grid_row": null,
            "grid_template_areas": null,
            "grid_template_columns": null,
            "grid_template_rows": null,
            "height": null,
            "justify_content": null,
            "justify_items": null,
            "left": null,
            "margin": null,
            "max_height": null,
            "max_width": null,
            "min_height": null,
            "min_width": null,
            "object_fit": null,
            "object_position": null,
            "order": null,
            "overflow": null,
            "overflow_x": null,
            "overflow_y": null,
            "padding": null,
            "right": null,
            "top": null,
            "visibility": null,
            "width": null
          }
        },
        "3de37ad985b54d95b52764fc4ce21e68": {
          "model_module": "@jupyter-widgets/controls",
          "model_name": "DescriptionStyleModel",
          "model_module_version": "1.5.0",
          "state": {
            "_model_module": "@jupyter-widgets/controls",
            "_model_module_version": "1.5.0",
            "_model_name": "DescriptionStyleModel",
            "_view_count": null,
            "_view_module": "@jupyter-widgets/base",
            "_view_module_version": "1.2.0",
            "_view_name": "StyleView",
            "description_width": ""
          }
        },
        "492f9490b19342dd85a67c912210e058": {
          "model_module": "@jupyter-widgets/base",
          "model_name": "LayoutModel",
          "model_module_version": "1.2.0",
          "state": {
            "_model_module": "@jupyter-widgets/base",
            "_model_module_version": "1.2.0",
            "_model_name": "LayoutModel",
            "_view_count": null,
            "_view_module": "@jupyter-widgets/base",
            "_view_module_version": "1.2.0",
            "_view_name": "LayoutView",
            "align_content": null,
            "align_items": null,
            "align_self": null,
            "border": null,
            "bottom": null,
            "display": null,
            "flex": null,
            "flex_flow": null,
            "grid_area": null,
            "grid_auto_columns": null,
            "grid_auto_flow": null,
            "grid_auto_rows": null,
            "grid_column": null,
            "grid_gap": null,
            "grid_row": null,
            "grid_template_areas": null,
            "grid_template_columns": null,
            "grid_template_rows": null,
            "height": null,
            "justify_content": null,
            "justify_items": null,
            "left": null,
            "margin": null,
            "max_height": null,
            "max_width": null,
            "min_height": null,
            "min_width": null,
            "object_fit": null,
            "object_position": null,
            "order": null,
            "overflow": null,
            "overflow_x": null,
            "overflow_y": null,
            "padding": null,
            "right": null,
            "top": null,
            "visibility": null,
            "width": null
          }
        },
        "70c24d3e223944c8aba64cf02fc81497": {
          "model_module": "@jupyter-widgets/controls",
          "model_name": "ProgressStyleModel",
          "model_module_version": "1.5.0",
          "state": {
            "_model_module": "@jupyter-widgets/controls",
            "_model_module_version": "1.5.0",
            "_model_name": "ProgressStyleModel",
            "_view_count": null,
            "_view_module": "@jupyter-widgets/base",
            "_view_module_version": "1.2.0",
            "_view_name": "StyleView",
            "bar_color": null,
            "description_width": ""
          }
        },
        "4e7e087da9974f0dbaee1c0c5dddd849": {
          "model_module": "@jupyter-widgets/base",
          "model_name": "LayoutModel",
          "model_module_version": "1.2.0",
          "state": {
            "_model_module": "@jupyter-widgets/base",
            "_model_module_version": "1.2.0",
            "_model_name": "LayoutModel",
            "_view_count": null,
            "_view_module": "@jupyter-widgets/base",
            "_view_module_version": "1.2.0",
            "_view_name": "LayoutView",
            "align_content": null,
            "align_items": null,
            "align_self": null,
            "border": null,
            "bottom": null,
            "display": null,
            "flex": null,
            "flex_flow": null,
            "grid_area": null,
            "grid_auto_columns": null,
            "grid_auto_flow": null,
            "grid_auto_rows": null,
            "grid_column": null,
            "grid_gap": null,
            "grid_row": null,
            "grid_template_areas": null,
            "grid_template_columns": null,
            "grid_template_rows": null,
            "height": null,
            "justify_content": null,
            "justify_items": null,
            "left": null,
            "margin": null,
            "max_height": null,
            "max_width": null,
            "min_height": null,
            "min_width": null,
            "object_fit": null,
            "object_position": null,
            "order": null,
            "overflow": null,
            "overflow_x": null,
            "overflow_y": null,
            "padding": null,
            "right": null,
            "top": null,
            "visibility": null,
            "width": null
          }
        },
        "ce9a052cb1bf45eb99c81c472c269e3f": {
          "model_module": "@jupyter-widgets/controls",
          "model_name": "DescriptionStyleModel",
          "model_module_version": "1.5.0",
          "state": {
            "_model_module": "@jupyter-widgets/controls",
            "_model_module_version": "1.5.0",
            "_model_name": "DescriptionStyleModel",
            "_view_count": null,
            "_view_module": "@jupyter-widgets/base",
            "_view_module_version": "1.2.0",
            "_view_name": "StyleView",
            "description_width": ""
          }
        },
        "0a733ad7cb2442df85e7ac762ec241f4": {
          "model_module": "@jupyter-widgets/controls",
          "model_name": "HBoxModel",
          "model_module_version": "1.5.0",
          "state": {
            "_dom_classes": [],
            "_model_module": "@jupyter-widgets/controls",
            "_model_module_version": "1.5.0",
            "_model_name": "HBoxModel",
            "_view_count": null,
            "_view_module": "@jupyter-widgets/controls",
            "_view_module_version": "1.5.0",
            "_view_name": "HBoxView",
            "box_style": "",
            "children": [
              "IPY_MODEL_d06bfb5fc6dc4d84aaa4686b9bea5512",
              "IPY_MODEL_4e8df7ae0e3d439a84f00c999d1dc9a6",
              "IPY_MODEL_f65bbb3bb307403ea288fc5a4ed1687b"
            ],
            "layout": "IPY_MODEL_bdfe4a11645d44c99afe96208e2bfa9c"
          }
        },
        "d06bfb5fc6dc4d84aaa4686b9bea5512": {
          "model_module": "@jupyter-widgets/controls",
          "model_name": "HTMLModel",
          "model_module_version": "1.5.0",
          "state": {
            "_dom_classes": [],
            "_model_module": "@jupyter-widgets/controls",
            "_model_module_version": "1.5.0",
            "_model_name": "HTMLModel",
            "_view_count": null,
            "_view_module": "@jupyter-widgets/controls",
            "_view_module_version": "1.5.0",
            "_view_name": "HTMLView",
            "description": "",
            "description_tooltip": null,
            "layout": "IPY_MODEL_422438f396a041deafe4cfb2239b39a0",
            "placeholder": "​",
            "style": "IPY_MODEL_dd898585b8814e84aadef221326e7d2f",
            "value": "100%"
          }
        },
        "4e8df7ae0e3d439a84f00c999d1dc9a6": {
          "model_module": "@jupyter-widgets/controls",
          "model_name": "FloatProgressModel",
          "model_module_version": "1.5.0",
          "state": {
            "_dom_classes": [],
            "_model_module": "@jupyter-widgets/controls",
            "_model_module_version": "1.5.0",
            "_model_name": "FloatProgressModel",
            "_view_count": null,
            "_view_module": "@jupyter-widgets/controls",
            "_view_module_version": "1.5.0",
            "_view_name": "ProgressView",
            "bar_style": "success",
            "description": "",
            "description_tooltip": null,
            "layout": "IPY_MODEL_4e40c3e65f5044b8b61d868dcb0555c5",
            "max": 1446244375,
            "min": 0,
            "orientation": "horizontal",
            "style": "IPY_MODEL_b3b160b3176b44bd917cc76fc5423fdf",
            "value": 1446244375
          }
        },
        "f65bbb3bb307403ea288fc5a4ed1687b": {
          "model_module": "@jupyter-widgets/controls",
          "model_name": "HTMLModel",
          "model_module_version": "1.5.0",
          "state": {
            "_dom_classes": [],
            "_model_module": "@jupyter-widgets/controls",
            "_model_module_version": "1.5.0",
            "_model_name": "HTMLModel",
            "_view_count": null,
            "_view_module": "@jupyter-widgets/controls",
            "_view_module_version": "1.5.0",
            "_view_name": "HTMLView",
            "description": "",
            "description_tooltip": null,
            "layout": "IPY_MODEL_5c6c815404f84499a660501a28d29403",
            "placeholder": "​",
            "style": "IPY_MODEL_26956684b3e041cf956991025f1aedcf",
            "value": " 1.35G/1.35G [00:09&lt;00:00, 85.0MB/s]"
          }
        },
        "bdfe4a11645d44c99afe96208e2bfa9c": {
          "model_module": "@jupyter-widgets/base",
          "model_name": "LayoutModel",
          "model_module_version": "1.2.0",
          "state": {
            "_model_module": "@jupyter-widgets/base",
            "_model_module_version": "1.2.0",
            "_model_name": "LayoutModel",
            "_view_count": null,
            "_view_module": "@jupyter-widgets/base",
            "_view_module_version": "1.2.0",
            "_view_name": "LayoutView",
            "align_content": null,
            "align_items": null,
            "align_self": null,
            "border": null,
            "bottom": null,
            "display": null,
            "flex": null,
            "flex_flow": null,
            "grid_area": null,
            "grid_auto_columns": null,
            "grid_auto_flow": null,
            "grid_auto_rows": null,
            "grid_column": null,
            "grid_gap": null,
            "grid_row": null,
            "grid_template_areas": null,
            "grid_template_columns": null,
            "grid_template_rows": null,
            "height": null,
            "justify_content": null,
            "justify_items": null,
            "left": null,
            "margin": null,
            "max_height": null,
            "max_width": null,
            "min_height": null,
            "min_width": null,
            "object_fit": null,
            "object_position": null,
            "order": null,
            "overflow": null,
            "overflow_x": null,
            "overflow_y": null,
            "padding": null,
            "right": null,
            "top": null,
            "visibility": null,
            "width": null
          }
        },
        "422438f396a041deafe4cfb2239b39a0": {
          "model_module": "@jupyter-widgets/base",
          "model_name": "LayoutModel",
          "model_module_version": "1.2.0",
          "state": {
            "_model_module": "@jupyter-widgets/base",
            "_model_module_version": "1.2.0",
            "_model_name": "LayoutModel",
            "_view_count": null,
            "_view_module": "@jupyter-widgets/base",
            "_view_module_version": "1.2.0",
            "_view_name": "LayoutView",
            "align_content": null,
            "align_items": null,
            "align_self": null,
            "border": null,
            "bottom": null,
            "display": null,
            "flex": null,
            "flex_flow": null,
            "grid_area": null,
            "grid_auto_columns": null,
            "grid_auto_flow": null,
            "grid_auto_rows": null,
            "grid_column": null,
            "grid_gap": null,
            "grid_row": null,
            "grid_template_areas": null,
            "grid_template_columns": null,
            "grid_template_rows": null,
            "height": null,
            "justify_content": null,
            "justify_items": null,
            "left": null,
            "margin": null,
            "max_height": null,
            "max_width": null,
            "min_height": null,
            "min_width": null,
            "object_fit": null,
            "object_position": null,
            "order": null,
            "overflow": null,
            "overflow_x": null,
            "overflow_y": null,
            "padding": null,
            "right": null,
            "top": null,
            "visibility": null,
            "width": null
          }
        },
        "dd898585b8814e84aadef221326e7d2f": {
          "model_module": "@jupyter-widgets/controls",
          "model_name": "DescriptionStyleModel",
          "model_module_version": "1.5.0",
          "state": {
            "_model_module": "@jupyter-widgets/controls",
            "_model_module_version": "1.5.0",
            "_model_name": "DescriptionStyleModel",
            "_view_count": null,
            "_view_module": "@jupyter-widgets/base",
            "_view_module_version": "1.2.0",
            "_view_name": "StyleView",
            "description_width": ""
          }
        },
        "4e40c3e65f5044b8b61d868dcb0555c5": {
          "model_module": "@jupyter-widgets/base",
          "model_name": "LayoutModel",
          "model_module_version": "1.2.0",
          "state": {
            "_model_module": "@jupyter-widgets/base",
            "_model_module_version": "1.2.0",
            "_model_name": "LayoutModel",
            "_view_count": null,
            "_view_module": "@jupyter-widgets/base",
            "_view_module_version": "1.2.0",
            "_view_name": "LayoutView",
            "align_content": null,
            "align_items": null,
            "align_self": null,
            "border": null,
            "bottom": null,
            "display": null,
            "flex": null,
            "flex_flow": null,
            "grid_area": null,
            "grid_auto_columns": null,
            "grid_auto_flow": null,
            "grid_auto_rows": null,
            "grid_column": null,
            "grid_gap": null,
            "grid_row": null,
            "grid_template_areas": null,
            "grid_template_columns": null,
            "grid_template_rows": null,
            "height": null,
            "justify_content": null,
            "justify_items": null,
            "left": null,
            "margin": null,
            "max_height": null,
            "max_width": null,
            "min_height": null,
            "min_width": null,
            "object_fit": null,
            "object_position": null,
            "order": null,
            "overflow": null,
            "overflow_x": null,
            "overflow_y": null,
            "padding": null,
            "right": null,
            "top": null,
            "visibility": null,
            "width": null
          }
        },
        "b3b160b3176b44bd917cc76fc5423fdf": {
          "model_module": "@jupyter-widgets/controls",
          "model_name": "ProgressStyleModel",
          "model_module_version": "1.5.0",
          "state": {
            "_model_module": "@jupyter-widgets/controls",
            "_model_module_version": "1.5.0",
            "_model_name": "ProgressStyleModel",
            "_view_count": null,
            "_view_module": "@jupyter-widgets/base",
            "_view_module_version": "1.2.0",
            "_view_name": "StyleView",
            "bar_color": null,
            "description_width": ""
          }
        },
        "5c6c815404f84499a660501a28d29403": {
          "model_module": "@jupyter-widgets/base",
          "model_name": "LayoutModel",
          "model_module_version": "1.2.0",
          "state": {
            "_model_module": "@jupyter-widgets/base",
            "_model_module_version": "1.2.0",
            "_model_name": "LayoutModel",
            "_view_count": null,
            "_view_module": "@jupyter-widgets/base",
            "_view_module_version": "1.2.0",
            "_view_name": "LayoutView",
            "align_content": null,
            "align_items": null,
            "align_self": null,
            "border": null,
            "bottom": null,
            "display": null,
            "flex": null,
            "flex_flow": null,
            "grid_area": null,
            "grid_auto_columns": null,
            "grid_auto_flow": null,
            "grid_auto_rows": null,
            "grid_column": null,
            "grid_gap": null,
            "grid_row": null,
            "grid_template_areas": null,
            "grid_template_columns": null,
            "grid_template_rows": null,
            "height": null,
            "justify_content": null,
            "justify_items": null,
            "left": null,
            "margin": null,
            "max_height": null,
            "max_width": null,
            "min_height": null,
            "min_width": null,
            "object_fit": null,
            "object_position": null,
            "order": null,
            "overflow": null,
            "overflow_x": null,
            "overflow_y": null,
            "padding": null,
            "right": null,
            "top": null,
            "visibility": null,
            "width": null
          }
        },
        "26956684b3e041cf956991025f1aedcf": {
          "model_module": "@jupyter-widgets/controls",
          "model_name": "DescriptionStyleModel",
          "model_module_version": "1.5.0",
          "state": {
            "_model_module": "@jupyter-widgets/controls",
            "_model_module_version": "1.5.0",
            "_model_name": "DescriptionStyleModel",
            "_view_count": null,
            "_view_module": "@jupyter-widgets/base",
            "_view_module_version": "1.2.0",
            "_view_name": "StyleView",
            "description_width": ""
          }
        }
      }
    }
  },
  "nbformat": 4,
  "nbformat_minor": 5
}